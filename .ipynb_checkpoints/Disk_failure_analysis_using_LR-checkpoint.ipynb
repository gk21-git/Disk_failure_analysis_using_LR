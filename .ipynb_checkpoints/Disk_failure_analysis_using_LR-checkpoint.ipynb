{
 "cells": [
  {
   "cell_type": "markdown",
   "id": "d0a69a93",
   "metadata": {},
   "source": [
    "# Disk failure analysis using Logistic Regression\n",
    "## Introduction\n",
    "Prediction of failures in storage systems can improve availability, decrease maintenance cost and help allocate spare parts and manpower more efficiently.\n",
    "In this repo we'll use Logistic Regression on collected SMART data to perform classification of disks in \"good\" or \"failed\", and to identify factors that can be used as better predictors. "
   ]
  },
  {
   "cell_type": "markdown",
   "id": "eb678629",
   "metadata": {},
   "source": [
    "### Import Packages"
   ]
  },
  {
   "cell_type": "code",
   "execution_count": 15,
   "id": "9808dfca",
   "metadata": {},
   "outputs": [],
   "source": [
    "import numpy as np\n",
    "import pandas as pd\n",
    "import csv\n",
    "import time\n",
    "import os\n",
    "from scipy.stats import pearsonr\n",
    "from functools import reduce\n",
    "from sklearn.linear_model import LogisticRegression\n",
    "from sklearn.metrics import confusion_matrix, accuracy_score, precision_score\n",
    "from sklearn.utils import resample\n",
    "from sklearn.preprocessing import scale, normalize\n",
    "from sklearn.model_selection import cross_val_score\n",
    "import matplotlib.pyplot as plt \n",
    "from mlxtend.plotting import plot_confusion_matrix\n",
    "from imblearn.over_sampling import ADASYN"
   ]
  },
  {
   "cell_type": "markdown",
   "id": "053df8f3",
   "metadata": {},
   "source": [
    "### Loading the data\n",
    "We use the Baidu SMART (Self-Monitoring, Analysis, and Reporting Technology) Dataset,  (Kaggle)\n",
    "https://www.kaggle.com/datasets/drtycoon/hdds-dataset-baidu-inc. <br>\n",
    "The samples in this dataset were collected from an enterprise-class disk model:  Seagate ST31000524NS. Samples from 5750 individual disks were collected.\n",
    "The original set includes time values sampled per hour. We use only the last value, as we are not performing a time series analysis in this notebook. Therefore the data is loaded and only the last unique serial disk value are kept.\n",
    "We look also for anomalies in the data, in order to correct them.\n"
   ]
  },
  {
   "cell_type": "code",
   "execution_count": 18,
   "id": "4c5cf956",
   "metadata": {},
   "outputs": [
    {
     "name": "stdout",
     "output_type": "stream",
     "text": [
      "0\n"
     ]
    }
   ],
   "source": [
    "# Original and single value (filtered for single entry)file\n",
    "\n",
    "orig_file = \"Baidu_SMART_Dataset.csv\"\n",
    "new_file = \"Baidu_SMART_Dataset_single_value.csv\"\n",
    "\n",
    "#Check the data for anomalies\n",
    "data= pd.read_csv(orig_file)\n",
    "print(data.isna().any(axis=1).sum())\n"
   ]
  },
  {
   "cell_type": "markdown",
   "id": "b72eb9d7",
   "metadata": {},
   "source": [
    "There are ~ 100 samples per good disk,  ~400 for a faulty one, with similar values. \n",
    "The last entry in the list for each device is selected (one entry per disk), as there are no time stamps in the data to perform a time series analysis."
   ]
  },
  {
   "cell_type": "code",
   "execution_count": 3,
   "id": "b9a37328",
   "metadata": {},
   "outputs": [],
   "source": [
    "# If we already filtered the data, load it from the file \"new_file\", else perform filtering\n",
    "# and save it to \"new_file\"\n",
    "\n",
    "if os.path.isfile(new_file):\n",
    "    df=pd.read_csv(new_file)\n",
    "else:  \n",
    "    uniq_indx=[]\n",
    "    for indx in range(0,(len(data.index)-1)):\n",
    "                if data.iloc[indx]['serial-number'] != data.iloc[indx+1]['serial-number']:\n",
    "                    uniq_indx.append(indx)\n",
    "    df = data.iloc[data.index.isin(uniq_indx)]\n",
    "    df.to_csv(new_file,index=False)"
   ]
  },
  {
   "cell_type": "code",
   "execution_count": 4,
   "id": "6c99a1f1",
   "metadata": {
    "scrolled": true
   },
   "outputs": [
    {
     "name": "stdout",
     "output_type": "stream",
     "text": [
      "Serial number - disk identifier:\n",
      " min       1\n",
      "max    5749\n",
      "Name: serial-number, dtype: int64\n",
      "---------------------------------------------\n",
      "\n",
      "Number of good and bad disks\n",
      "  1    5316\n",
      "-1     433\n",
      "Name: Drive Status, dtype: int64\n"
     ]
    }
   ],
   "source": [
    "#Print how many different disks are in the dataframe\n",
    "\n",
    "print(\"Serial number - disk identifier:\\n\",df['serial-number'].agg([min, max]))\n",
    "print('---------------------------------------------')\n",
    "print(\"\\nNumber of good and bad disks\\n\",df['Drive Status'].value_counts())"
   ]
  },
  {
   "cell_type": "markdown",
   "id": "0dc49293",
   "metadata": {},
   "source": [
    "There are 5749 different disks, from which 433 are defective."
   ]
  },
  {
   "cell_type": "markdown",
   "id": "bba48f42",
   "metadata": {},
   "source": [
    "### Preparing the data for analysis - training and test sets\n"
   ]
  },
  {
   "cell_type": "code",
   "execution_count": 5,
   "id": "27907010",
   "metadata": {},
   "outputs": [],
   "source": [
    "# We extract the inputs and outputs from the Pandas Dataframe df.\n",
    "\n",
    "inputs = list(df)\n",
    "inputs.remove('Drive Status') # This is the output \n",
    "inputs.remove('serial-number') # Not relevant as a parameter\n",
    "inputs.remove('Reallocated Sectors Count') # Similar to another reallocated sectors\n",
    "output = 'Drive Status'\n",
    "\n",
    "#Copy the data to X (input)and Y(output) arrays\n",
    "X = df[inputs].to_numpy()\n",
    "Y = df[output].to_numpy().reshape(-1)\n"
   ]
  },
  {
   "cell_type": "code",
   "execution_count": 6,
   "id": "054f1d84",
   "metadata": {},
   "outputs": [],
   "source": [
    "# Randomize the data and divide it in training and test sets (70/30) - with a higher ration we observed overfitting.\n",
    "\n",
    "num_of_points = len(Y)\n",
    "\n",
    "idx = list(range(num_of_points))\n",
    "np.random.shuffle(idx)\n",
    "\n",
    "idx_train = idx[:int(num_of_points * 0.8)]\n",
    "idx_train.sort()\n",
    "idx_test = idx[int(num_of_points * 0.8):]\n",
    "idx_test.sort()\n",
    "\n",
    "X_train = X[idx_train, :]\n",
    "X_test = X[idx_test, :]\n",
    "\n",
    "Y_train = Y[idx_train]\n",
    "Y_test = Y[idx_test]\n"
   ]
  },
  {
   "cell_type": "markdown",
   "id": "34bca96e",
   "metadata": {},
   "source": [
    "### Resampling \n",
    "We saw that there is an imbalance between the number of good and bad drives (5316 good vs 433 bad). We need to resample the data to correct this issue.<br>\n",
    "The resampling of the data is performed on the training data only. <br>\n",
    "We utilize ADASYN: Adaptive Synthetic Sampling Approach to perform the resampling. ADASYN is a generalized form of the SMOTE algorithm, and it performs better than sklearn.utils resample for this task.\n",
    "ADASYN is based on the idea of adaptively generating minority data samples according to their distributions: more synthetic data is generated for minority class samples that are harder to learn compared to those minority samples that are easier to learn."
   ]
  },
  {
   "cell_type": "code",
   "execution_count": 7,
   "id": "bc21955f",
   "metadata": {},
   "outputs": [
    {
     "name": "stdout",
     "output_type": "stream",
     "text": [
      "before upsampling 4599\n",
      "after upsampling 8491\n"
     ]
    }
   ],
   "source": [
    "print(\"before upsampling\",len(Y_train))\n",
    "ada=ADASYN(random_state=140)\n",
    "X_train_ada,Y_train_ada = ada.fit_resample(X_train,Y_train)\n",
    "print(\"after upsampling\",len(Y_train_ada))\n"
   ]
  },
  {
   "cell_type": "markdown",
   "id": "3ea4d824",
   "metadata": {},
   "source": [
    "Allocate the input and output upsampled training data "
   ]
  },
  {
   "cell_type": "code",
   "execution_count": 8,
   "id": "d57d5ac4",
   "metadata": {},
   "outputs": [],
   "source": [
    "X_train = X_train_ada\n",
    "Y_train = Y_train_ada"
   ]
  },
  {
   "cell_type": "markdown",
   "id": "b9411bdb",
   "metadata": {},
   "source": [
    "Reshuffle the upsampled train data"
   ]
  },
  {
   "cell_type": "code",
   "execution_count": 9,
   "id": "8b7d4202",
   "metadata": {},
   "outputs": [],
   "source": [
    "idx = list(range(Y_train.size))\n",
    "np.random.shuffle(idx)\n",
    "idx.sort()\n",
    "X_train = X_train[idx, :]\n",
    "Y_train = Y_train[idx]\n"
   ]
  },
  {
   "cell_type": "markdown",
   "id": "03901700",
   "metadata": {},
   "source": [
    "## Bayesian optimization of the hyperparameters\n",
    "Hyperopt is used to search the optimal configuration of the following Logistic Regression hyperparameters:\n",
    "- C: Inverse of regularization strength\n",
    "- Solver : newton-cg', 'lbfgs', 'liblinear'or 'saga'\n",
    "- max number of iterations\n",
    "- tol: Tolerance for stopping criteria\n",
    "- fit intercept : Specifies if a constant (a.k.a. bias or intercept) should be added to the decision function.\n"
   ]
  },
  {
   "cell_type": "code",
   "execution_count": 10,
   "id": "1ddfb61b",
   "metadata": {},
   "outputs": [],
   "source": [
    "#Definition of the hyperparameters to search\n",
    "\n",
    "from hyperopt import hp, tpe, fmin, Trials, STATUS_OK\n",
    "\n",
    "space = {'fit_intercept' : hp.choice('fit_intercept', [True, False]),\n",
    "            'tol' : hp.uniform('tol', 0.00001, 0.0001),\n",
    "            'C' : hp.uniform('C', 0.05, 300),\n",
    "            'solver' : hp.choice('solver', ['newton-cg', 'lbfgs', 'liblinear','saga']),\n",
    "            'max_iter' : hp.uniform('max_iter', 1000,10000)\n",
    "    }"
   ]
  },
  {
   "cell_type": "code",
   "execution_count": 11,
   "id": "2d65d81f",
   "metadata": {},
   "outputs": [],
   "source": [
    "#Definition of the objective function + loss (we use -accuracy as we are looking for minimization of the problem)\n",
    "\n",
    "def objective(space):\n",
    "    model = LogisticRegression(fit_intercept = space['fit_intercept'],\n",
    "                                 tol = space['tol'],\n",
    "                                 C = space['C'],\n",
    "                                 solver = space['solver'], \n",
    "                                 max_iter = space['max_iter'],                              \n",
    "                                 )\n",
    "# Five times cross validation - mean of these accuracies will be considered\n",
    "    accuracy = cross_val_score(model, X_train, Y_train, cv = 5).mean()\n",
    "\n",
    "# We aim to maximize accuracy, therefore we return it as a negative value\n",
    "    return {'loss': -accuracy, 'status': STATUS_OK }"
   ]
  },
  {
   "cell_type": "code",
   "execution_count": 12,
   "id": "94c171d2",
   "metadata": {},
   "outputs": [
    {
     "name": "stdout",
     "output_type": "stream",
     "text": [
      "100%|█████████████████████████████████████████████████████| 100/100 [00:59<00:00,  1.69trial/s, best loss: -0.9577200196055186]\n",
      "{'C': 276.18963482779503, 'fit_intercept': 0, 'max_iter': 9315.511144546728, 'solver': 1, 'tol': 8.155321062359431e-05}\n"
     ]
    }
   ],
   "source": [
    "from sklearn.model_selection import cross_val_score\n",
    "trials = Trials()\n",
    "best = fmin(fn= objective,\n",
    "            space= space,\n",
    "            algo= tpe.suggest,\n",
    "            max_evals = 100,\n",
    "            trials= trials)\n",
    "print(best)"
   ]
  },
  {
   "cell_type": "markdown",
   "id": "c865a1a9",
   "metadata": {},
   "source": [
    "# Logistic Regression\n",
    "Logistic regression is a model that is well suited for classification problems where there is  a binary output, like the one presented here, in which the output predicts if a hard drive is functional or faulty.<br>\n",
    "The quality of the results is assessed using a confusion matrix and accuracy score."
   ]
  },
  {
   "cell_type": "code",
   "execution_count": 17,
   "id": "27751d0d",
   "metadata": {},
   "outputs": [
    {
     "name": "stdout",
     "output_type": "stream",
     "text": [
      "Training Confusion Matrix\n",
      "[[4114  128]\n",
      " [ 122 4127]]\n",
      "Training accuracy of the train data = 0.970557060416912\n",
      "\n",
      "[[  82    1]\n",
      " [  31 1036]]\n",
      "Confusion Matrix for the Test Data\n"
     ]
    },
    {
     "data": {
      "image/png": "[encoded data removed]",
      "text/plain": [
       "<Figure size 640x480 with 2 Axes>"
      ]
     },
     "metadata": {},
     "output_type": "display_data"
    },
    {
     "name": "stdout",
     "output_type": "stream",
     "text": [
      "Testing accuracy = 0.9721739130434782\n",
      "Testing precision = 0.9990356798457087\n"
     ]
    }
   ],
   "source": [
    "# define the model\n",
    "#hyperparameters: solver, max_iter, C and penalty.\n",
    "\n",
    "model = LogisticRegression(solver='newton-cg', max_iter=4000,C=191,penalty = 'l2',tol=6.21e-05, fit_intercept=False)\n",
    "\n",
    "# train the model\n",
    "model.fit(X_train, Y_train)\n",
    "\n",
    "# create the predictions based on the training and test data\n",
    "Y_train_pred = model.predict(X_train)\n",
    "Y_test_pred = model.predict(X_test)\n",
    "\n",
    "# build the confusion matrices\n",
    "confusion_matrix_train = confusion_matrix(Y_train, Y_train_pred)\n",
    "confusion_matrix_test = confusion_matrix(Y_test, Y_test_pred)\n",
    "\n",
    "# calculate accuracies\n",
    "train_accuracy = accuracy_score(Y_train, Y_train_pred)\n",
    "test_accuracy = accuracy_score(Y_test, Y_test_pred)\n",
    "test_precision = precision_score(Y_test,Y_test_pred)\n",
    "# display the results\n",
    "print('Training Confusion Matrix')\n",
    "print(confusion_matrix_train)\n",
    "print(f'Training accuracy of the train data = {train_accuracy}')\n",
    "print()\n",
    "#print('Testing Confusion Matrix')\n",
    "print(confusion_matrix_test)\n",
    "print(\"Confusion Matrix for the Test Data\")\n",
    "\n",
    "class_names = ['Failed','Good']\n",
    "fig, ax = plot_confusion_matrix(conf_mat=confusion_matrix_test,\n",
    "                                show_absolute=True,\n",
    "                                show_normed=True,\n",
    "                                colorbar=True,\n",
    "                               class_names=class_names)\n",
    "plt.show()\n",
    "\n",
    "print(f'Testing accuracy = {test_accuracy}')\n",
    "print(f'Testing precision = {test_precision}')"
   ]
  },
  {
   "cell_type": "markdown",
   "id": "e31c6090",
   "metadata": {},
   "source": [
    "### Estimation of the coefficients of the parameters\n",
    "We obtain the coefficients of the parameters from the model. We multiply the coefficient by the standard deviation to weight the related part of the variance explained by X.<br>\n",
    "We then present the parameters by order of influence. As Power Time (time the disk is powered up) and Spin Time (time the disk was actually doing work) may be related, a Pearson test is performed to test the strength of the correlation, if any."
   ]
  },
  {
   "cell_type": "code",
   "execution_count": null,
   "id": "7e9db9f0",
   "metadata": {},
   "outputs": [],
   "source": [
    "# The estimated coefficients :\n",
    "coeffs = model.coef_\n",
    "print(\"Model coefficients:\")\n",
    "print(coeffs[:1])\n",
    "\n",
    "#The coefficient multiplied by the standard deviation \"represents\" the weight of X on Y as it is related to the part\n",
    "#of the variance explained by X\n",
    "\n",
    "print(\"\\nModel coefficients multiplied by the standard deviation \")\n",
    "\n",
    "coeffs_std=np.std(X, 0)*model.coef_\n",
    "\n",
    "print(coeffs_std)"
   ]
  },
  {
   "cell_type": "markdown",
   "id": "6531c4d4",
   "metadata": {},
   "source": [
    "### Print the parameter's coefficients values"
   ]
  },
  {
   "cell_type": "code",
   "execution_count": null,
   "id": "2afd2fde",
   "metadata": {},
   "outputs": [],
   "source": [
    "## Create a dictionary to present the impact of each parameter\n",
    "\n",
    "c_std=coeffs_std.tolist()\n",
    "c_std= reduce(lambda z, y :z + y, c_std)\n",
    "\n",
    "results=dict(zip(inputs, c_std))\n",
    "#Sort the coefficients by value\n",
    "results = dict(sorted(results.items(), key=lambda item: item[1],reverse=True))\n",
    "\n",
    "#print results\n",
    "for k, v in results.items():\n",
    "    print (\"Coefficient of parameter\",k, ' = ',\"%.4f\" %  v)\n",
    "    \n",
    "key = results.keys()\n",
    "val = results.values()\n",
    "\n",
    "#Plot values \n",
    "fig, ax = plt.subplots()\n",
    "ax.set_title('Logistic Regression Coefficients')\n",
    "y_pos = np.arange(len(key))\n",
    "ax.barh(y_pos, val, align='center',color=['b','r','g','m','k','c','orange','y',\n",
    "                                          'chartreuse',(0,.25,.75),(.2,.5,.7)]) \n",
    "ax.set_yticks(y_pos, labels=key)\n",
    "ax.invert_yaxis()  # labels read top-to-bottom\n",
    "ax.set_xlabel('Coefficient Value')\n",
    "#plt.bar(x_pos, val, color=['b', 'r', 'green', 'blue', 'cyan'])\n",
    "plt.xlim([-2, 5])\n"
   ]
  },
  {
   "cell_type": "markdown",
   "id": "4bad0ca2",
   "metadata": {},
   "source": [
    "The parameters having most of the impact are:\n",
    "- Seek Error Rate  =  4.6254\n",
    "- Reported Uncorrectable Error  =  3.8471\n",
    "- Power on Hours  =  3.6906\n",
    "- SpinUpTime  =  3.0458\n",
    "\n",
    "Let's calculate the correlation between Power on Hours and SpinUpTime to verify independency:"
   ]
  },
  {
   "cell_type": "code",
   "execution_count": null,
   "id": "05937ece",
   "metadata": {},
   "outputs": [],
   "source": [
    "corr, _ = pearsonr(df['Power on Hours'],df['SpinUpTime'])\n",
    "print('Pearsons correlation: %.3f' % corr)"
   ]
  },
  {
   "cell_type": "markdown",
   "id": "be1cfb3c",
   "metadata": {},
   "source": [
    "There is a low correlation between them, so we keep both parameters."
   ]
  },
  {
   "cell_type": "markdown",
   "id": "171f4126",
   "metadata": {},
   "source": [
    "### Conclusion\n",
    "This notebook presents a simple approach to identify the major factors of disk failures, using Logistic Regression. \n",
    "The model shows good accuracy for the dataset used.<br> We found that the model is very sensitive to the upsampling method used to correct the imbalance (small number of failed disks vs good disks). Sklearn-learn resample fared poorly with only 75% accuracy. The use of ADASYN, which generates minority data samples based on their distributions improved greatly the performance of the model to 97%.<br>\n",
    "While only one failed disk was misclassified as a good disk, 25 good disks were classified as failed. This should have been discovered by the technician upon test of the disk before replacement. <br>\n",
    "It should this noted that the present model is limited to the specific dataset used. However it may be used as a template for work with other datasets, which use SMART HDD to collect the data.\n"
   ]
  }
 ],
 "metadata": {
  "kernelspec": {
   "display_name": "Python 3 (ipykernel)",
   "language": "python",
   "name": "python3"
  },
  "language_info": {
   "codemirror_mode": {
    "name": "ipython",
    "version": 3
   },
   "file_extension": ".py",
   "mimetype": "text/x-python",
   "name": "python",
   "nbconvert_exporter": "python",
   "pygments_lexer": "ipython3",
   "version": "3.9.12"
  }
 },
 "nbformat": 4,
 "nbformat_minor": 5
}
